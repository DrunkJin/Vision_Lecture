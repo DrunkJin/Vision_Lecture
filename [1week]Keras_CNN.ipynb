{
  "nbformat": 4,
  "nbformat_minor": 0,
  "metadata": {
    "accelerator": "GPU",
    "colab": {
      "name": "[1week]Keras_CNN.ipynb",
      "provenance": [],
      "collapsed_sections": [],
      "include_colab_link": true
    },
    "kernelspec": {
      "name": "python3",
      "display_name": "Python 3"
    },
    "language_info": {
      "codemirror_mode": {
        "name": "ipython",
        "version": 3
      },
      "file_extension": ".py",
      "mimetype": "text/x-python",
      "name": "python",
      "nbconvert_exporter": "python",
      "pygments_lexer": "ipython3",
      "version": "3.7.3"
    }
  },
  "cells": [
    {
      "cell_type": "markdown",
      "metadata": {
        "id": "view-in-github",
        "colab_type": "text"
      },
      "source": [
        "<a href=\"https://colab.research.google.com/github/tylee33/Vision_Lecture/blob/main/%5B1week%5DKeras_CNN.ipynb\" target=\"_parent\"><img src=\"https://colab.research.google.com/assets/colab-badge.svg\" alt=\"Open In Colab\"/></a>"
      ]
    },
    {
      "cell_type": "markdown",
      "metadata": {
        "id": "z8juHB30ID_y"
      },
      "source": [
        "# Convolutional Neural Network"
      ]
    },
    {
      "cell_type": "markdown",
      "metadata": {
        "id": "2rC4cBMclMBL"
      },
      "source": [
        "# 1. 라이브러리 불러오기"
      ]
    },
    {
      "cell_type": "code",
      "metadata": {
        "id": "gGoUgyQde1B0",
        "colab": {
          "base_uri": "https://localhost:8080/"
        },
        "outputId": "90f63598-5707-4c39-829e-ac7d4bf32830"
      },
      "source": [
        "# 1.라이브러리 불러오기\n",
        "import tensorflow as tf # 딥러닝 라이브러리\n",
        "from tensorflow.python import keras\n",
        "import numpy as np # 수학 계산 라이브러리\n",
        "import matplotlib.pyplot as plt # 그래프 그리는 라이브러리 \n",
        "from tensorflow.keras import utils\n",
        "\n",
        "# 항상 버전 확인은 필수\n",
        "print(tf.__version__) # 2.4.0\n",
        "print(keras.__version__) # 2.4.0"
      ],
      "execution_count": null,
      "outputs": [
        {
          "output_type": "stream",
          "name": "stdout",
          "text": [
            "2.8.2\n",
            "2.6.0\n"
          ]
        }
      ]
    },
    {
      "cell_type": "markdown",
      "metadata": {
        "id": "_1iSQmcglOT_"
      },
      "source": [
        "# 2. 랜덤 시드 설정하기 (중요!)\n",
        "https://keras.io/getting-started/faq/#how-can-i-obtain-reproducible-results-using-keras-during-development"
      ]
    },
    {
      "cell_type": "code",
      "metadata": {
        "id": "wkdun6usk2B9"
      },
      "source": [
        "# 2.랜덤 시드 고정하기\n",
        "import random\n",
        "seed_value = 42 # 랜덤 시드 ; 삶, 우주, 그리고 모든 것에 대한 궁극적인 질문에 대한 해답.\n",
        "\n",
        "random.seed(seed_value)\n",
        "np.random.seed(seed_value)\n",
        "tf.random.set_seed(seed_value)"
      ],
      "execution_count": null,
      "outputs": []
    },
    {
      "cell_type": "markdown",
      "metadata": {
        "id": "6UTdIW-gJWwr"
      },
      "source": [
        "# 3. 데이터셋"
      ]
    },
    {
      "cell_type": "code",
      "metadata": {
        "id": "R6EeL-OAJpKd"
      },
      "source": [
        "img_rows = 28\n",
        "img_cols = 28\n",
        "\n",
        "def preprocess_data(data, label):\n",
        "  from keras import backend as K\n",
        "  if K.image_data_format() == 'channels_first':\n",
        "    data = data.reshape(data.shape[0], 1, img_rows, img_cols)\n",
        "  else:\n",
        "    data = data.reshape(data.shape[0], img_rows, img_cols, 1)\n",
        "\n",
        "  return (data / 255., (utils.to_categorical(label)))\n",
        "\n",
        "from keras.datasets import mnist\n",
        "(x_train, y_train), (x_test, y_test) = mnist.load_data()\n",
        "\n",
        "x_train, y_train = preprocess_data(x_train, y_train)\n",
        "x_test, y_test = preprocess_data(x_test, y_test)\n"
      ],
      "execution_count": null,
      "outputs": []
    },
    {
      "cell_type": "code",
      "metadata": {
        "id": "X-puDkynCvBd",
        "colab": {
          "base_uri": "https://localhost:8080/",
          "height": 282
        },
        "outputId": "357cc94e-a770-42a6-d402-de7250ff8677"
      },
      "source": [
        "print(x_train.shape)\n",
        "plt.imshow(x_train[0,:,:,0])\n",
        "plt.show()"
      ],
      "execution_count": null,
      "outputs": [
        {
          "output_type": "stream",
          "text": [
            "(60000, 28, 28, 1)\n"
          ],
          "name": "stdout"
        },
        {
          "output_type": "display_data",
          "data": {
            "image/png": "[encoded data removed]",
            "text/plain": [
              "<Figure size 432x288 with 1 Axes>"
            ]
          },
          "metadata": {
            "tags": [],
            "needs_background": "light"
          }
        }
      ]
    },
    {
      "cell_type": "markdown",
      "metadata": {
        "id": "olIAgNvrJ1WO"
      },
      "source": [
        "# 4. 모델 만들기"
      ]
    },
    {
      "cell_type": "code",
      "metadata": {
        "id": "31iigy8iLqcO"
      },
      "source": [
        "# 4.모델 만들기\n",
        "model = keras.models.Sequential()\n",
        "model.add(keras.layers.Flatten(input_shape=(28,28,1)))\n",
        "model.add(keras.layers.Dense(units=16, activation='relu'))\n",
        "model.add(keras.layers.Dense(units=16, activation='relu'))\n",
        "model.add(keras.layers.Dense(units=10, activation='softmax'))\n"
      ],
      "execution_count": null,
      "outputs": []
    },
    {
      "cell_type": "code",
      "metadata": {
        "id": "RSRk-NTi0yHH"
      },
      "source": [
        "from keras.models import Sequential\n",
        "from keras.layers import Conv2D\n",
        "from keras.layers import MaxPooling2D\n",
        "from keras.layers import Dense\n",
        "from keras.layers import Flatten\n",
        "\n",
        "model = Sequential()\n",
        "model.add(Conv2D(filters=32, kernel_size=(3, 3), padding='same',activation='relu', input_shape=(28, 28, 1)))\n",
        "model.add(Conv2D(64, (3, 3), padding='same',activation='relu'))\n",
        "model.add(MaxPooling2D(pool_size=(2, 2)))\n",
        "model.add(Flatten())\n",
        "model.add(Dense(128, activation='relu'))\n",
        "model.add(Dense(10, activation='softmax'))"
      ],
      "execution_count": null,
      "outputs": []
    },
    {
      "cell_type": "markdown",
      "metadata": {
        "id": "u6-4-3df15Ex"
      },
      "source": [
        "# CNN with padding='same', kernel_size=(3,3)\n",
        "**input = 5x5, output = 5x5** . \n",
        "\n",
        "![cnn](https://cdn-media-1.freecodecamp.org/images/d0ufdQE7LHA43cdSrVefw2I9DFceYMixqoZJ)\n",
        "\n",
        "# CNN with padding=None, kernel_size=(3,3)\n",
        "**input = 7x7, output = 5x5** . \n",
        "\n",
        "![cnn](https://raw.githubusercontent.com/iamaaditya/iamaaditya.github.io/master/images/conv_arithmetic/full_padding_no_strides_transposed.gif)\n",
        "\n",
        "# MaxPool\n",
        "![maxPool](http://cs231n.github.io/assets/cnn/maxpool.jpeg)"
      ]
    },
    {
      "cell_type": "code",
      "metadata": {
        "id": "weSEgSbBGQJ9",
        "colab": {
          "base_uri": "https://localhost:8080/"
        },
        "outputId": "db7be996-21ce-4156-e3e3-7929f64cb0c4"
      },
      "source": [
        "model.summary()"
      ],
      "execution_count": null,
      "outputs": [
        {
          "output_type": "stream",
          "name": "stdout",
          "text": [
            "Model: \"sequential\"\n",
            "_________________________________________________________________\n",
            " Layer (type)                Output Shape              Param #   \n",
            "=================================================================\n",
            " conv2d (Conv2D)             (None, 28, 28, 32)        320       \n",
            "                                                                 \n",
            " conv2d_1 (Conv2D)           (None, 28, 28, 64)        18496     \n",
            "                                                                 \n",
            " max_pooling2d (MaxPooling2D  (None, 14, 14, 64)       0         \n",
            " )                                                               \n",
            "                                                                 \n",
            " flatten (Flatten)           (None, 12544)             0         \n",
            "                                                                 \n",
            " dense (Dense)               (None, 128)               1605760   \n",
            "                                                                 \n",
            " dense_1 (Dense)             (None, 10)                1290      \n",
            "                                                                 \n",
            "=================================================================\n",
            "Total params: 1,625,866\n",
            "Trainable params: 1,625,866\n",
            "Non-trainable params: 0\n",
            "_________________________________________________________________\n"
          ]
        }
      ]
    },
    {
      "cell_type": "markdown",
      "metadata": {
        "id": "hV7QUTceh04D"
      },
      "source": [
        "# 5. 모델 학습과정 설정하기"
      ]
    },
    {
      "cell_type": "code",
      "metadata": {
        "id": "FZyrzmBGh0M3"
      },
      "source": [
        "# 5.모델 학습과정 설정하기\n",
        "# sgd = keras.optimizers.SGD(learning_rate=0.01, momentum=0.0, nesterov=False)\n",
        "model.compile(loss='categorical_crossentropy', optimizer='sgd', metrics=['accuracy'])"
      ],
      "execution_count": null,
      "outputs": []
    },
    {
      "cell_type": "code",
      "metadata": {
        "id": "hxUlxR9IbpnH"
      },
      "source": [
        "#es =  keras.callbacks.EarlyStopping(monitor='val_loss', mode='min', verbose=1, patience=20)"
      ],
      "execution_count": null,
      "outputs": []
    },
    {
      "cell_type": "markdown",
      "metadata": {
        "id": "kve2dqLDcGOF"
      },
      "source": [
        ""
      ]
    },
    {
      "cell_type": "markdown",
      "metadata": {
        "id": "5F-H6VxQiCDN"
      },
      "source": [
        "# 6. 모델 학습시키기"
      ]
    },
    {
      "cell_type": "code",
      "metadata": {
        "id": "zt8byFA7UczS",
        "colab": {
          "base_uri": "https://localhost:8080/"
        },
        "outputId": "5c656622-3d97-47dc-ddb4-1ee4dcdcccf7"
      },
      "source": [
        "# 6.모델 학습시키기\n",
        "history = model.fit(x_train, y_train, validation_split=0.2, shuffle=True, epochs=100, batch_size=512, callbacks=[])"
      ],
      "execution_count": null,
      "outputs": [
        {
          "output_type": "stream",
          "name": "stdout",
          "text": [
            "Epoch 1/100\n",
            "94/94 [==============================] - 15s 36ms/step - loss: 2.1157 - accuracy: 0.4579 - val_loss: 1.5941 - val_accuracy: 0.6906\n",
            "Epoch 2/100\n",
            "94/94 [==============================] - 3s 30ms/step - loss: 0.8189 - accuracy: 0.8060 - val_loss: 0.4256 - val_accuracy: 0.8817\n",
            "Epoch 3/100\n",
            "94/94 [==============================] - 3s 30ms/step - loss: 0.4024 - accuracy: 0.8850 - val_loss: 0.3272 - val_accuracy: 0.9065\n",
            "Epoch 4/100\n",
            "94/94 [==============================] - 3s 31ms/step - loss: 0.3350 - accuracy: 0.9025 - val_loss: 0.2938 - val_accuracy: 0.9133\n",
            "Epoch 5/100\n",
            "94/94 [==============================] - 3s 31ms/step - loss: 0.3016 - accuracy: 0.9114 - val_loss: 0.2653 - val_accuracy: 0.9248\n",
            "Epoch 6/100\n",
            "94/94 [==============================] - 3s 31ms/step - loss: 0.2763 - accuracy: 0.9186 - val_loss: 0.2465 - val_accuracy: 0.9284\n",
            "Epoch 7/100\n",
            "94/94 [==============================] - 3s 32ms/step - loss: 0.2558 - accuracy: 0.9242 - val_loss: 0.2310 - val_accuracy: 0.9326\n",
            "Epoch 8/100\n",
            "94/94 [==============================] - 3s 30ms/step - loss: 0.2396 - accuracy: 0.9295 - val_loss: 0.2166 - val_accuracy: 0.9352\n",
            "Epoch 9/100\n",
            "94/94 [==============================] - 3s 31ms/step - loss: 0.2238 - accuracy: 0.9338 - val_loss: 0.2056 - val_accuracy: 0.9399\n",
            "Epoch 10/100\n",
            "94/94 [==============================] - 3s 31ms/step - loss: 0.2129 - accuracy: 0.9368 - val_loss: 0.1989 - val_accuracy: 0.9411\n",
            "Epoch 11/100\n",
            "94/94 [==============================] - 3s 31ms/step - loss: 0.2037 - accuracy: 0.9396 - val_loss: 0.1873 - val_accuracy: 0.9452\n",
            "Epoch 12/100\n",
            "94/94 [==============================] - 3s 31ms/step - loss: 0.1920 - accuracy: 0.9428 - val_loss: 0.1807 - val_accuracy: 0.9476\n",
            "Epoch 13/100\n",
            "94/94 [==============================] - 3s 31ms/step - loss: 0.1820 - accuracy: 0.9454 - val_loss: 0.1774 - val_accuracy: 0.9491\n",
            "Epoch 14/100\n",
            "94/94 [==============================] - 3s 31ms/step - loss: 0.1738 - accuracy: 0.9484 - val_loss: 0.1686 - val_accuracy: 0.9501\n",
            "Epoch 15/100\n",
            "94/94 [==============================] - 3s 30ms/step - loss: 0.1652 - accuracy: 0.9505 - val_loss: 0.1584 - val_accuracy: 0.9538\n",
            "Epoch 16/100\n",
            "94/94 [==============================] - 3s 33ms/step - loss: 0.1589 - accuracy: 0.9528 - val_loss: 0.1652 - val_accuracy: 0.9513\n",
            "Epoch 17/100\n",
            "94/94 [==============================] - 3s 31ms/step - loss: 0.1568 - accuracy: 0.9531 - val_loss: 0.1509 - val_accuracy: 0.9567\n",
            "Epoch 18/100\n",
            "94/94 [==============================] - 3s 31ms/step - loss: 0.1468 - accuracy: 0.9562 - val_loss: 0.1533 - val_accuracy: 0.9545\n",
            "Epoch 19/100\n",
            "94/94 [==============================] - 3s 31ms/step - loss: 0.1412 - accuracy: 0.9576 - val_loss: 0.1505 - val_accuracy: 0.9553\n",
            "Epoch 20/100\n",
            "94/94 [==============================] - 3s 31ms/step - loss: 0.1381 - accuracy: 0.9582 - val_loss: 0.1490 - val_accuracy: 0.9557\n",
            "Epoch 21/100\n",
            "94/94 [==============================] - 3s 31ms/step - loss: 0.1325 - accuracy: 0.9604 - val_loss: 0.1351 - val_accuracy: 0.9614\n",
            "Epoch 22/100\n",
            "94/94 [==============================] - 3s 31ms/step - loss: 0.1276 - accuracy: 0.9614 - val_loss: 0.1300 - val_accuracy: 0.9621\n",
            "Epoch 23/100\n",
            "94/94 [==============================] - 3s 31ms/step - loss: 0.1226 - accuracy: 0.9638 - val_loss: 0.1370 - val_accuracy: 0.9600\n",
            "Epoch 24/100\n",
            "94/94 [==============================] - 3s 31ms/step - loss: 0.1181 - accuracy: 0.9646 - val_loss: 0.1349 - val_accuracy: 0.9610\n",
            "Epoch 25/100\n",
            "94/94 [==============================] - 3s 31ms/step - loss: 0.1161 - accuracy: 0.9653 - val_loss: 0.1232 - val_accuracy: 0.9634\n",
            "Epoch 26/100\n",
            "94/94 [==============================] - 3s 31ms/step - loss: 0.1124 - accuracy: 0.9663 - val_loss: 0.1240 - val_accuracy: 0.9644\n",
            "Epoch 27/100\n",
            "94/94 [==============================] - 3s 31ms/step - loss: 0.1087 - accuracy: 0.9680 - val_loss: 0.1171 - val_accuracy: 0.9662\n",
            "Epoch 28/100\n",
            "94/94 [==============================] - 3s 31ms/step - loss: 0.1059 - accuracy: 0.9688 - val_loss: 0.1162 - val_accuracy: 0.9661\n",
            "Epoch 29/100\n",
            "94/94 [==============================] - 3s 31ms/step - loss: 0.1033 - accuracy: 0.9691 - val_loss: 0.1189 - val_accuracy: 0.9665\n",
            "Epoch 30/100\n",
            "94/94 [==============================] - 3s 32ms/step - loss: 0.1010 - accuracy: 0.9702 - val_loss: 0.1149 - val_accuracy: 0.9667\n",
            "Epoch 31/100\n",
            "94/94 [==============================] - 3s 32ms/step - loss: 0.0998 - accuracy: 0.9707 - val_loss: 0.1141 - val_accuracy: 0.9668\n",
            "Epoch 32/100\n",
            "94/94 [==============================] - 3s 31ms/step - loss: 0.0951 - accuracy: 0.9711 - val_loss: 0.1114 - val_accuracy: 0.9675\n",
            "Epoch 33/100\n",
            "94/94 [==============================] - 3s 31ms/step - loss: 0.0951 - accuracy: 0.9717 - val_loss: 0.1123 - val_accuracy: 0.9677\n",
            "Epoch 34/100\n",
            "94/94 [==============================] - 3s 31ms/step - loss: 0.0923 - accuracy: 0.9725 - val_loss: 0.1066 - val_accuracy: 0.9693\n",
            "Epoch 35/100\n",
            "94/94 [==============================] - 3s 31ms/step - loss: 0.0887 - accuracy: 0.9738 - val_loss: 0.1066 - val_accuracy: 0.9688\n",
            "Epoch 36/100\n",
            "94/94 [==============================] - 3s 31ms/step - loss: 0.0878 - accuracy: 0.9736 - val_loss: 0.1030 - val_accuracy: 0.9700\n",
            "Epoch 37/100\n",
            "94/94 [==============================] - 3s 31ms/step - loss: 0.0861 - accuracy: 0.9745 - val_loss: 0.1072 - val_accuracy: 0.9690\n",
            "Epoch 38/100\n",
            "94/94 [==============================] - 3s 31ms/step - loss: 0.0832 - accuracy: 0.9753 - val_loss: 0.0976 - val_accuracy: 0.9721\n",
            "Epoch 39/100\n",
            "94/94 [==============================] - 3s 31ms/step - loss: 0.0856 - accuracy: 0.9743 - val_loss: 0.1842 - val_accuracy: 0.9457\n",
            "Epoch 40/100\n",
            "94/94 [==============================] - 3s 31ms/step - loss: 0.0826 - accuracy: 0.9750 - val_loss: 0.0971 - val_accuracy: 0.9712\n",
            "Epoch 41/100\n",
            "94/94 [==============================] - 3s 31ms/step - loss: 0.0771 - accuracy: 0.9768 - val_loss: 0.0996 - val_accuracy: 0.9707\n",
            "Epoch 42/100\n",
            "94/94 [==============================] - 3s 31ms/step - loss: 0.0777 - accuracy: 0.9767 - val_loss: 0.0976 - val_accuracy: 0.9710\n",
            "Epoch 43/100\n",
            "94/94 [==============================] - 3s 31ms/step - loss: 0.0751 - accuracy: 0.9773 - val_loss: 0.1065 - val_accuracy: 0.9689\n",
            "Epoch 44/100\n",
            "94/94 [==============================] - 3s 31ms/step - loss: 0.0744 - accuracy: 0.9776 - val_loss: 0.1015 - val_accuracy: 0.9696\n",
            "Epoch 45/100\n",
            "94/94 [==============================] - 3s 31ms/step - loss: 0.0728 - accuracy: 0.9782 - val_loss: 0.0975 - val_accuracy: 0.9718\n",
            "Epoch 46/100\n",
            "94/94 [==============================] - 3s 31ms/step - loss: 0.0710 - accuracy: 0.9788 - val_loss: 0.0981 - val_accuracy: 0.9703\n",
            "Epoch 47/100\n",
            "94/94 [==============================] - 3s 31ms/step - loss: 0.0704 - accuracy: 0.9786 - val_loss: 0.0996 - val_accuracy: 0.9703\n",
            "Epoch 48/100\n",
            "94/94 [==============================] - 3s 31ms/step - loss: 0.0699 - accuracy: 0.9790 - val_loss: 0.0914 - val_accuracy: 0.9730\n",
            "Epoch 49/100\n",
            "94/94 [==============================] - 3s 31ms/step - loss: 0.0688 - accuracy: 0.9792 - val_loss: 0.1116 - val_accuracy: 0.9678\n",
            "Epoch 50/100\n",
            "94/94 [==============================] - 3s 31ms/step - loss: 0.0664 - accuracy: 0.9800 - val_loss: 0.1011 - val_accuracy: 0.9701\n",
            "Epoch 51/100\n",
            "94/94 [==============================] - 3s 31ms/step - loss: 0.0642 - accuracy: 0.9814 - val_loss: 0.1045 - val_accuracy: 0.9695\n",
            "Epoch 52/100\n",
            "94/94 [==============================] - 3s 31ms/step - loss: 0.0637 - accuracy: 0.9814 - val_loss: 0.1038 - val_accuracy: 0.9697\n",
            "Epoch 53/100\n",
            "94/94 [==============================] - 3s 31ms/step - loss: 0.0630 - accuracy: 0.9815 - val_loss: 0.1140 - val_accuracy: 0.9663\n",
            "Epoch 54/100\n",
            "94/94 [==============================] - 3s 31ms/step - loss: 0.0630 - accuracy: 0.9813 - val_loss: 0.0875 - val_accuracy: 0.9744\n",
            "Epoch 55/100\n",
            "94/94 [==============================] - 3s 31ms/step - loss: 0.0609 - accuracy: 0.9819 - val_loss: 0.0882 - val_accuracy: 0.9745\n",
            "Epoch 56/100\n",
            "94/94 [==============================] - 3s 31ms/step - loss: 0.0598 - accuracy: 0.9822 - val_loss: 0.0979 - val_accuracy: 0.9711\n",
            "Epoch 57/100\n",
            "94/94 [==============================] - 3s 31ms/step - loss: 0.0586 - accuracy: 0.9828 - val_loss: 0.0861 - val_accuracy: 0.9747\n",
            "Epoch 58/100\n",
            "94/94 [==============================] - 3s 31ms/step - loss: 0.0564 - accuracy: 0.9837 - val_loss: 0.0887 - val_accuracy: 0.9741\n",
            "Epoch 59/100\n",
            "94/94 [==============================] - 3s 31ms/step - loss: 0.0570 - accuracy: 0.9834 - val_loss: 0.0879 - val_accuracy: 0.9742\n",
            "Epoch 60/100\n",
            "94/94 [==============================] - 3s 31ms/step - loss: 0.0559 - accuracy: 0.9835 - val_loss: 0.0900 - val_accuracy: 0.9743\n",
            "Epoch 61/100\n",
            "94/94 [==============================] - 3s 31ms/step - loss: 0.4952 - accuracy: 0.9367 - val_loss: 0.1142 - val_accuracy: 0.9679\n",
            "Epoch 62/100\n",
            "94/94 [==============================] - 3s 31ms/step - loss: 0.0895 - accuracy: 0.9737 - val_loss: 0.1026 - val_accuracy: 0.9705\n",
            "Epoch 63/100\n",
            "94/94 [==============================] - 3s 32ms/step - loss: 0.0770 - accuracy: 0.9773 - val_loss: 0.0927 - val_accuracy: 0.9724\n",
            "Epoch 64/100\n",
            "94/94 [==============================] - 3s 31ms/step - loss: 0.0714 - accuracy: 0.9789 - val_loss: 0.0899 - val_accuracy: 0.9737\n",
            "Epoch 65/100\n",
            "94/94 [==============================] - 3s 31ms/step - loss: 0.0671 - accuracy: 0.9801 - val_loss: 0.0899 - val_accuracy: 0.9732\n",
            "Epoch 66/100\n",
            "94/94 [==============================] - 3s 31ms/step - loss: 0.0640 - accuracy: 0.9812 - val_loss: 0.0860 - val_accuracy: 0.9743\n",
            "Epoch 67/100\n",
            "94/94 [==============================] - 3s 31ms/step - loss: 0.0620 - accuracy: 0.9815 - val_loss: 0.0915 - val_accuracy: 0.9731\n",
            "Epoch 68/100\n",
            "94/94 [==============================] - 3s 31ms/step - loss: 0.0601 - accuracy: 0.9825 - val_loss: 0.0852 - val_accuracy: 0.9740\n",
            "Epoch 69/100\n",
            "94/94 [==============================] - 3s 31ms/step - loss: 0.0583 - accuracy: 0.9829 - val_loss: 0.0865 - val_accuracy: 0.9737\n",
            "Epoch 70/100\n",
            "94/94 [==============================] - 3s 31ms/step - loss: 0.0563 - accuracy: 0.9830 - val_loss: 0.0856 - val_accuracy: 0.9756\n",
            "Epoch 71/100\n",
            "94/94 [==============================] - 3s 31ms/step - loss: 0.0554 - accuracy: 0.9837 - val_loss: 0.0819 - val_accuracy: 0.9756\n",
            "Epoch 72/100\n",
            "94/94 [==============================] - 3s 31ms/step - loss: 0.0537 - accuracy: 0.9846 - val_loss: 0.0842 - val_accuracy: 0.9743\n",
            "Epoch 73/100\n",
            "94/94 [==============================] - 3s 31ms/step - loss: 0.0533 - accuracy: 0.9841 - val_loss: 0.0824 - val_accuracy: 0.9747\n",
            "Epoch 74/100\n",
            "94/94 [==============================] - 3s 31ms/step - loss: 0.0514 - accuracy: 0.9849 - val_loss: 0.0834 - val_accuracy: 0.9759\n",
            "Epoch 75/100\n",
            "94/94 [==============================] - 3s 31ms/step - loss: 0.0506 - accuracy: 0.9853 - val_loss: 0.0794 - val_accuracy: 0.9751\n",
            "Epoch 76/100\n",
            "94/94 [==============================] - 3s 31ms/step - loss: 0.0502 - accuracy: 0.9855 - val_loss: 0.0851 - val_accuracy: 0.9743\n",
            "Epoch 77/100\n",
            "94/94 [==============================] - 3s 31ms/step - loss: 0.0487 - accuracy: 0.9856 - val_loss: 0.0832 - val_accuracy: 0.9751\n",
            "Epoch 78/100\n",
            "94/94 [==============================] - 3s 31ms/step - loss: 0.0480 - accuracy: 0.9861 - val_loss: 0.0830 - val_accuracy: 0.9743\n",
            "Epoch 79/100\n",
            "94/94 [==============================] - 3s 31ms/step - loss: 0.0468 - accuracy: 0.9863 - val_loss: 0.0844 - val_accuracy: 0.9756\n",
            "Epoch 80/100\n",
            "94/94 [==============================] - 3s 31ms/step - loss: 0.0460 - accuracy: 0.9865 - val_loss: 0.0813 - val_accuracy: 0.9755\n",
            "Epoch 81/100\n",
            "94/94 [==============================] - 3s 31ms/step - loss: 0.0453 - accuracy: 0.9868 - val_loss: 0.0809 - val_accuracy: 0.9758\n",
            "Epoch 82/100\n",
            "94/94 [==============================] - 3s 31ms/step - loss: 0.0442 - accuracy: 0.9874 - val_loss: 0.0811 - val_accuracy: 0.9753\n",
            "Epoch 83/100\n",
            "94/94 [==============================] - 3s 31ms/step - loss: 0.0441 - accuracy: 0.9869 - val_loss: 0.0779 - val_accuracy: 0.9764\n",
            "Epoch 84/100\n",
            "94/94 [==============================] - 3s 31ms/step - loss: 0.0428 - accuracy: 0.9877 - val_loss: 0.0815 - val_accuracy: 0.9753\n",
            "Epoch 85/100\n",
            "94/94 [==============================] - 3s 31ms/step - loss: 0.0423 - accuracy: 0.9875 - val_loss: 0.0782 - val_accuracy: 0.9764\n",
            "Epoch 86/100\n",
            "94/94 [==============================] - 3s 31ms/step - loss: 0.0419 - accuracy: 0.9879 - val_loss: 0.0763 - val_accuracy: 0.9767\n",
            "Epoch 87/100\n",
            "94/94 [==============================] - 3s 31ms/step - loss: 0.0414 - accuracy: 0.9872 - val_loss: 0.0808 - val_accuracy: 0.9757\n",
            "Epoch 88/100\n",
            "94/94 [==============================] - 3s 31ms/step - loss: 0.0398 - accuracy: 0.9884 - val_loss: 0.0810 - val_accuracy: 0.9757\n",
            "Epoch 89/100\n",
            "94/94 [==============================] - 3s 32ms/step - loss: 0.0399 - accuracy: 0.9879 - val_loss: 0.0776 - val_accuracy: 0.9766\n",
            "Epoch 90/100\n",
            "94/94 [==============================] - 3s 31ms/step - loss: 0.0396 - accuracy: 0.9881 - val_loss: 0.0825 - val_accuracy: 0.9763\n",
            "Epoch 91/100\n",
            "94/94 [==============================] - 3s 31ms/step - loss: 0.0387 - accuracy: 0.9885 - val_loss: 0.0751 - val_accuracy: 0.9783\n",
            "Epoch 92/100\n",
            "94/94 [==============================] - 3s 31ms/step - loss: 0.0382 - accuracy: 0.9887 - val_loss: 0.0805 - val_accuracy: 0.9752\n",
            "Epoch 93/100\n",
            "94/94 [==============================] - 3s 31ms/step - loss: 0.0378 - accuracy: 0.9889 - val_loss: 0.0830 - val_accuracy: 0.9750\n",
            "Epoch 94/100\n",
            "94/94 [==============================] - 3s 32ms/step - loss: 0.0371 - accuracy: 0.9890 - val_loss: 0.0796 - val_accuracy: 0.9777\n",
            "Epoch 95/100\n",
            "94/94 [==============================] - 3s 33ms/step - loss: 0.0366 - accuracy: 0.9895 - val_loss: 0.0745 - val_accuracy: 0.9778\n",
            "Epoch 96/100\n",
            "94/94 [==============================] - 3s 31ms/step - loss: 0.0356 - accuracy: 0.9899 - val_loss: 0.0772 - val_accuracy: 0.9775\n",
            "Epoch 97/100\n",
            "94/94 [==============================] - 3s 31ms/step - loss: 0.0356 - accuracy: 0.9896 - val_loss: 0.0741 - val_accuracy: 0.9783\n",
            "Epoch 98/100\n",
            "94/94 [==============================] - 3s 32ms/step - loss: 0.0342 - accuracy: 0.9903 - val_loss: 0.0858 - val_accuracy: 0.9753\n",
            "Epoch 99/100\n",
            "94/94 [==============================] - 3s 31ms/step - loss: 0.0347 - accuracy: 0.9903 - val_loss: 0.0801 - val_accuracy: 0.9761\n",
            "Epoch 100/100\n",
            "94/94 [==============================] - 3s 31ms/step - loss: 0.0342 - accuracy: 0.9900 - val_loss: 0.0844 - val_accuracy: 0.9739\n"
          ]
        }
      ]
    },
    {
      "cell_type": "markdown",
      "metadata": {
        "id": "ClX-yYJBaXo4"
      },
      "source": [
        "# 7.결과 출력"
      ]
    },
    {
      "cell_type": "code",
      "metadata": {
        "id": "CzxycS1laEdO",
        "colab": {
          "base_uri": "https://localhost:8080/",
          "height": 283
        },
        "outputId": "23363bc8-e8b4-4343-ae08-8513b2d8e53b"
      },
      "source": [
        "# Loss 출력\n",
        "\n",
        "print(history.history.keys())\n",
        "plt.plot(history.history['loss'])\n",
        "plt.plot(history.history['val_loss'])\n",
        "plt.legend(('train_loss', 'val_loss'))\n",
        "plt.show()"
      ],
      "execution_count": null,
      "outputs": [
        {
          "output_type": "stream",
          "name": "stdout",
          "text": [
            "dict_keys(['loss', 'accuracy', 'val_loss', 'val_accuracy'])\n"
          ]
        },
        {
          "output_type": "display_data",
          "data": {
            "text/plain": [
              "<Figure size 432x288 with 1 Axes>"
            ],
            "image/png": "[encoded data removed]"
          },
          "metadata": {
            "needs_background": "light"
          }
        }
      ]
    },
    {
      "cell_type": "markdown",
      "metadata": {
        "id": "b4Y3wESn3dnk"
      },
      "source": [
        "#7.결과 출력"
      ]
    },
    {
      "cell_type": "code",
      "metadata": {
        "id": "2UGFaLiZf1yk",
        "colab": {
          "base_uri": "https://localhost:8080/"
        },
        "outputId": "dec41e86-32f6-457e-ef9b-ee212947ab3d"
      },
      "source": [
        "result = model.evaluate(x_test, y_test)\n",
        "print(result)"
      ],
      "execution_count": null,
      "outputs": [
        {
          "output_type": "stream",
          "name": "stdout",
          "text": [
            "313/313 [==============================] - 1s 3ms/step - loss: 0.0805 - accuracy: 0.9750\n",
            "[0.080547034740448, 0.9750000238418579]\n"
          ]
        }
      ]
    },
    {
      "cell_type": "code",
      "metadata": {
        "id": "NezH-81H3x-8",
        "colab": {
          "base_uri": "https://localhost:8080/",
          "height": 283
        },
        "outputId": "cb148bee-c5de-4e80-93eb-60cc4dc0dbdd"
      },
      "source": [
        "plt.imshow(x_test[0,:,:,0])"
      ],
      "execution_count": null,
      "outputs": [
        {
          "output_type": "execute_result",
          "data": {
            "text/plain": [
              "<matplotlib.image.AxesImage at 0x7fbc861a3f10>"
            ]
          },
          "metadata": {},
          "execution_count": 15
        },
        {
          "output_type": "display_data",
          "data": {
            "text/plain": [
              "<Figure size 432x288 with 1 Axes>"
            ],
            "image/png": "[encoded data removed]"
          },
          "metadata": {
            "needs_background": "light"
          }
        }
      ]
    },
    {
      "cell_type": "code",
      "metadata": {
        "id": "3D-SMd50IJ3q"
      },
      "source": [
        "y_hat = model.predict(x_test[0:1])"
      ],
      "execution_count": null,
      "outputs": []
    },
    {
      "cell_type": "code",
      "metadata": {
        "id": "FKQ_a2ZdISgn",
        "colab": {
          "base_uri": "https://localhost:8080/"
        },
        "outputId": "9c1c55bf-a993-46cf-bdd5-a708e7b7e7e4"
      },
      "source": [
        "print(y_hat)"
      ],
      "execution_count": null,
      "outputs": [
        {
          "output_type": "stream",
          "name": "stdout",
          "text": [
            "[[4.9512470e-09 1.3878067e-08 1.0996112e-06 2.5036166e-04 3.6847494e-13\n",
            "  6.2157575e-08 2.9602202e-13 9.9974293e-01 3.7750289e-07 5.0759459e-06]]\n"
          ]
        }
      ]
    },
    {
      "cell_type": "code",
      "metadata": {
        "id": "I4vCORj_Ic6v",
        "colab": {
          "base_uri": "https://localhost:8080/"
        },
        "outputId": "a3ad23ac-5783-4f23-e6de-f29332fec0c2"
      },
      "source": [
        "print(y_test[0])"
      ],
      "execution_count": null,
      "outputs": [
        {
          "output_type": "stream",
          "name": "stdout",
          "text": [
            "[0. 0. 0. 0. 0. 0. 0. 1. 0. 0.]\n"
          ]
        }
      ]
    },
    {
      "cell_type": "code",
      "metadata": {
        "id": "Rj9VLOUoIqTN",
        "colab": {
          "base_uri": "https://localhost:8080/"
        },
        "outputId": "b0f8a586-d1b7-4e23-9281-d619a949c355"
      },
      "source": [
        "np.argmax(y_hat)"
      ],
      "execution_count": null,
      "outputs": [
        {
          "output_type": "execute_result",
          "data": {
            "text/plain": [
              "7"
            ]
          },
          "metadata": {},
          "execution_count": 19
        }
      ]
    },
    {
      "cell_type": "code",
      "metadata": {
        "id": "aAuN8XCPJJZt",
        "colab": {
          "base_uri": "https://localhost:8080/"
        },
        "outputId": "49be2a7c-3a85-4922-bb8d-953380009ec9"
      },
      "source": [
        "np.max(y_hat)"
      ],
      "execution_count": null,
      "outputs": [
        {
          "output_type": "execute_result",
          "data": {
            "text/plain": [
              "0.9997429"
            ]
          },
          "metadata": {},
          "execution_count": 20
        }
      ]
    },
    {
      "cell_type": "code",
      "metadata": {
        "id": "RharUA84JN5v"
      },
      "source": [
        ""
      ],
      "execution_count": null,
      "outputs": []
    }
  ]
}